{
 "cells": [
  {
   "cell_type": "markdown",
   "id": "91971b0b-fafa-413a-a0ad-1a573822ace5",
   "metadata": {
    "id": "91971b0b-fafa-413a-a0ad-1a573822ace5"
   },
   "source": [
    "# Set Up"
   ]
  },
  {
   "cell_type": "markdown",
   "id": "cb547d5a-3595-44c6-a0b2-445fb0c548ab",
   "metadata": {
    "id": "cb547d5a-3595-44c6-a0b2-445fb0c548ab"
   },
   "source": [
    "## Introduction"
   ]
  },
  {
   "cell_type": "markdown",
   "id": "4efe48c8-1d53-4fe1-a9f1-85a9e3438a04",
   "metadata": {
    "id": "4efe48c8-1d53-4fe1-a9f1-85a9e3438a04"
   },
   "source": [
    "Over 100 million people visit Quora every month, so it's no surprise that many people ask similar (or the same) questions. Various questions with the same intent can cause people to spend extra time searching for the best answer to their question, and results in members answering multiple versions of the same question. Quora uses random forest to identify duplicated questions to provide a better experience to active seekers and writers, and offer more value to both of these groups in the long term.\n",
    "Follow the steps outlined below to build the appropriate classifier model. \n",
    "\n",
    "\n",
    "Steps:\n",
    "- Download data\n",
    "- Exploration\n",
    "- Cleaning\n",
    "- Feature Engineering\n",
    "- Modeling\n",
    "\n",
    "**Note**: computationally exhaustive model fits are commented out. The pre-trained models are loaded in via pickle as long as they are downloaded and placed in the correct folder. See `README.md` for more."
   ]
  },
  {
   "cell_type": "markdown",
   "id": "c4364956-59e8-47c0-8615-da5bacb0c3ef",
   "metadata": {
    "id": "c4364956-59e8-47c0-8615-da5bacb0c3ef"
   },
   "source": [
    "To do:\n",
    "- Comment\n",
    "- Push final state to git\n",
    "- Finish Presentation"
   ]
  },
  {
   "cell_type": "markdown",
   "id": "f2af44bc-f381-4b24-b814-521a260cda94",
   "metadata": {
    "id": "f2af44bc-f381-4b24-b814-521a260cda94"
   },
   "source": [
    "## Packages"
   ]
  },
  {
   "cell_type": "code",
   "execution_count": 1,
   "id": "6f7849e9-0920-4673-959b-7ebb7732baf7",
   "metadata": {
    "id": "6f7849e9-0920-4673-959b-7ebb7732baf7"
   },
   "outputs": [],
   "source": [
    "#trifecta\n",
    "import pandas as pd\n",
    "import numpy as np\n",
    "import matplotlib.pyplot as plt\n",
    "\n",
    "#gen process\n",
    "from copy import deepcopy\n",
    "from sklearn.model_selection import train_test_split\n",
    "\n",
    "#NLP process\n",
    "from nltk.corpus import stopwords\n",
    "from sklearn.feature_extraction.text import TfidfVectorizer\n",
    "from scipy.sparse import hstack\n",
    "\n",
    "#Models\n",
    "from sklearn import naive_bayes\n",
    "from sklearn.ensemble import RandomForestClassifier\n",
    "from sklearn.linear_model import LogisticRegression\n",
    "\n",
    "#export model\n",
    "import pickle\n",
    "\n",
    "#Evaluation\n",
    "from sklearn.metrics import ConfusionMatrixDisplay, accuracy_score, precision_score, recall_score\n",
    "from sklearn.model_selection import GridSearchCV"
   ]
  },
  {
   "cell_type": "code",
   "execution_count": 37,
   "id": "9187deeb-807b-4458-8464-5f1c99893c46",
   "metadata": {
    "id": "9187deeb-807b-4458-8464-5f1c99893c46"
   },
   "outputs": [],
   "source": [
    "#pull custom NLP pre-processing functions\n",
    "%run -i NLP_functions.py"
   ]
  },
  {
   "cell_type": "markdown",
   "id": "0e5ec19c-2c1f-443f-a0c6-c13a7c20bc56",
   "metadata": {
    "id": "0e5ec19c-2c1f-443f-a0c6-c13a7c20bc56"
   },
   "source": [
    "## Data"
   ]
  },
  {
   "cell_type": "code",
   "execution_count": 3,
   "id": "753aaf90-feef-4e3b-8ef9-f72c24c472fb",
   "metadata": {
    "id": "753aaf90-feef-4e3b-8ef9-f72c24c472fb",
    "outputId": "6339cae8-863f-4cc3-a502-1f93246341d2"
   },
   "outputs": [
    {
     "data": {
      "text/html": [
       "<div>\n",
       "<style scoped>\n",
       "    .dataframe tbody tr th:only-of-type {\n",
       "        vertical-align: middle;\n",
       "    }\n",
       "\n",
       "    .dataframe tbody tr th {\n",
       "        vertical-align: top;\n",
       "    }\n",
       "\n",
       "    .dataframe thead th {\n",
       "        text-align: right;\n",
       "    }\n",
       "</style>\n",
       "<table border=\"1\" class=\"dataframe\">\n",
       "  <thead>\n",
       "    <tr style=\"text-align: right;\">\n",
       "      <th></th>\n",
       "      <th>id</th>\n",
       "      <th>qid1</th>\n",
       "      <th>qid2</th>\n",
       "      <th>question1</th>\n",
       "      <th>question2</th>\n",
       "      <th>is_duplicate</th>\n",
       "    </tr>\n",
       "  </thead>\n",
       "  <tbody>\n",
       "    <tr>\n",
       "      <th>0</th>\n",
       "      <td>0</td>\n",
       "      <td>1</td>\n",
       "      <td>2</td>\n",
       "      <td>What is the step by step guide to invest in sh...</td>\n",
       "      <td>What is the step by step guide to invest in sh...</td>\n",
       "      <td>0</td>\n",
       "    </tr>\n",
       "    <tr>\n",
       "      <th>1</th>\n",
       "      <td>1</td>\n",
       "      <td>3</td>\n",
       "      <td>4</td>\n",
       "      <td>What is the story of Kohinoor (Koh-i-Noor) Dia...</td>\n",
       "      <td>What would happen if the Indian government sto...</td>\n",
       "      <td>0</td>\n",
       "    </tr>\n",
       "    <tr>\n",
       "      <th>2</th>\n",
       "      <td>2</td>\n",
       "      <td>5</td>\n",
       "      <td>6</td>\n",
       "      <td>How can I increase the speed of my internet co...</td>\n",
       "      <td>How can Internet speed be increased by hacking...</td>\n",
       "      <td>0</td>\n",
       "    </tr>\n",
       "    <tr>\n",
       "      <th>3</th>\n",
       "      <td>3</td>\n",
       "      <td>7</td>\n",
       "      <td>8</td>\n",
       "      <td>Why am I mentally very lonely? How can I solve...</td>\n",
       "      <td>Find the remainder when [math]23^{24}[/math] i...</td>\n",
       "      <td>0</td>\n",
       "    </tr>\n",
       "    <tr>\n",
       "      <th>4</th>\n",
       "      <td>4</td>\n",
       "      <td>9</td>\n",
       "      <td>10</td>\n",
       "      <td>Which one dissolve in water quikly sugar, salt...</td>\n",
       "      <td>Which fish would survive in salt water?</td>\n",
       "      <td>0</td>\n",
       "    </tr>\n",
       "  </tbody>\n",
       "</table>\n",
       "</div>"
      ],
      "text/plain": [
       "   id  qid1  qid2                                          question1  \\\n",
       "0   0     1     2  What is the step by step guide to invest in sh...   \n",
       "1   1     3     4  What is the story of Kohinoor (Koh-i-Noor) Dia...   \n",
       "2   2     5     6  How can I increase the speed of my internet co...   \n",
       "3   3     7     8  Why am I mentally very lonely? How can I solve...   \n",
       "4   4     9    10  Which one dissolve in water quikly sugar, salt...   \n",
       "\n",
       "                                           question2  is_duplicate  \n",
       "0  What is the step by step guide to invest in sh...             0  \n",
       "1  What would happen if the Indian government sto...             0  \n",
       "2  How can Internet speed be increased by hacking...             0  \n",
       "3  Find the remainder when [math]23^{24}[/math] i...             0  \n",
       "4            Which fish would survive in salt water?             0  "
      ]
     },
     "execution_count": 3,
     "metadata": {},
     "output_type": "execute_result"
    }
   ],
   "source": [
    "#download data\n",
    "data_raw = pd.read_csv('../big_files/train.csv')\n",
    "data_raw.head()"
   ]
  },
  {
   "cell_type": "code",
   "execution_count": 4,
   "id": "0011151c-3d0e-476e-bdf6-5723165ec578",
   "metadata": {
    "id": "0011151c-3d0e-476e-bdf6-5723165ec578"
   },
   "outputs": [],
   "source": [
    "#drop id col (dup of index)\n",
    "data_raw = data_raw.drop(['id', 'qid1', 'qid2'], axis = 1) #[don't think I need qid but I'd like to check that]"
   ]
  },
  {
   "cell_type": "markdown",
   "id": "57aaf9b0-cc51-405f-b95f-e0f423e8882a",
   "metadata": {
    "id": "57aaf9b0-cc51-405f-b95f-e0f423e8882a"
   },
   "source": [
    "# Exploration"
   ]
  },
  {
   "cell_type": "code",
   "execution_count": 5,
   "id": "48419d61-5575-4cdc-88dc-704230cce4b0",
   "metadata": {
    "id": "48419d61-5575-4cdc-88dc-704230cce4b0",
    "outputId": "257d6359-8950-4059-98e9-0406e5199182"
   },
   "outputs": [
    {
     "data": {
      "text/plain": [
       "is_duplicate\n",
       "0    0.630800\n",
       "1    0.369198\n",
       "Name: question1, dtype: float64"
      ]
     },
     "execution_count": 5,
     "metadata": {},
     "output_type": "execute_result"
    }
   ],
   "source": [
    "#get frequency for class (is/isnt duplicate)\n",
    "class_freq = data_raw.groupby('is_duplicate').count().question1\n",
    "\n",
    "class_freq/ data_raw.shape[0] #roughly 60:40 ratio, in interest of time we'll say this is fine"
   ]
  },
  {
   "cell_type": "code",
   "execution_count": 6,
   "id": "4a982a9c-2d46-4901-a9df-029180b6871e",
   "metadata": {
    "id": "4a982a9c-2d46-4901-a9df-029180b6871e",
    "outputId": "bf45e366-2d27-4f0d-bb0f-d408d2c27878"
   },
   "outputs": [
    {
     "name": "stdout",
     "output_type": "stream",
     "text": [
      "<class 'pandas.core.frame.DataFrame'>\n",
      "RangeIndex: 404290 entries, 0 to 404289\n",
      "Data columns (total 3 columns):\n",
      " #   Column        Non-Null Count   Dtype \n",
      "---  ------        --------------   ----- \n",
      " 0   question1     404289 non-null  object\n",
      " 1   question2     404288 non-null  object\n",
      " 2   is_duplicate  404290 non-null  int64 \n",
      "dtypes: int64(1), object(2)\n",
      "memory usage: 9.3+ MB\n"
     ]
    }
   ],
   "source": [
    "data_raw.info() #nulls & dtype"
   ]
  },
  {
   "cell_type": "code",
   "execution_count": 7,
   "id": "eff6f312-a0af-4ea1-9c3a-34097e5fc3be",
   "metadata": {
    "id": "eff6f312-a0af-4ea1-9c3a-34097e5fc3be",
    "outputId": "308a21d3-5174-4f92-b4f2-5667d94c37ef"
   },
   "outputs": [
    {
     "data": {
      "text/plain": [
       "question1       1\n",
       "question2       2\n",
       "is_duplicate    0\n",
       "dtype: int64"
      ]
     },
     "execution_count": 7,
     "metadata": {},
     "output_type": "execute_result"
    }
   ],
   "source": [
    "#missing values\n",
    "data_raw.isnull().sum()"
   ]
  },
  {
   "cell_type": "code",
   "execution_count": 8,
   "id": "272e73ae-37e5-4ec1-8415-94c16873be17",
   "metadata": {
    "id": "272e73ae-37e5-4ec1-8415-94c16873be17",
    "outputId": "083b1a2e-6647-4415-9eca-d70ac173adeb"
   },
   "outputs": [
    {
     "data": {
      "text/html": [
       "<div>\n",
       "<style scoped>\n",
       "    .dataframe tbody tr th:only-of-type {\n",
       "        vertical-align: middle;\n",
       "    }\n",
       "\n",
       "    .dataframe tbody tr th {\n",
       "        vertical-align: top;\n",
       "    }\n",
       "\n",
       "    .dataframe thead th {\n",
       "        text-align: right;\n",
       "    }\n",
       "</style>\n",
       "<table border=\"1\" class=\"dataframe\">\n",
       "  <thead>\n",
       "    <tr style=\"text-align: right;\">\n",
       "      <th></th>\n",
       "      <th>question1</th>\n",
       "      <th>question2</th>\n",
       "      <th>is_duplicate</th>\n",
       "    </tr>\n",
       "  </thead>\n",
       "  <tbody>\n",
       "    <tr>\n",
       "      <th>105780</th>\n",
       "      <td>How can I develop android app?</td>\n",
       "      <td>NaN</td>\n",
       "      <td>0</td>\n",
       "    </tr>\n",
       "    <tr>\n",
       "      <th>201841</th>\n",
       "      <td>How can I create an Android app?</td>\n",
       "      <td>NaN</td>\n",
       "      <td>0</td>\n",
       "    </tr>\n",
       "    <tr>\n",
       "      <th>363362</th>\n",
       "      <td>NaN</td>\n",
       "      <td>My Chinese name is Haichao Yu. What English na...</td>\n",
       "      <td>0</td>\n",
       "    </tr>\n",
       "  </tbody>\n",
       "</table>\n",
       "</div>"
      ],
      "text/plain": [
       "                               question1  \\\n",
       "105780    How can I develop android app?   \n",
       "201841  How can I create an Android app?   \n",
       "363362                               NaN   \n",
       "\n",
       "                                                question2  is_duplicate  \n",
       "105780                                                NaN             0  \n",
       "201841                                                NaN             0  \n",
       "363362  My Chinese name is Haichao Yu. What English na...             0  "
      ]
     },
     "execution_count": 8,
     "metadata": {},
     "output_type": "execute_result"
    }
   ],
   "source": [
    "#explore the nan\n",
    "data_raw[data_raw.isnull().any(axis=1)]"
   ]
  },
  {
   "cell_type": "code",
   "execution_count": 9,
   "id": "83df2aa0-258b-4552-be9e-7bcd5d5eccd8",
   "metadata": {
    "id": "83df2aa0-258b-4552-be9e-7bcd5d5eccd8"
   },
   "outputs": [],
   "source": [
    "data_raw = data_raw.dropna() #drop nan"
   ]
  },
  {
   "cell_type": "code",
   "execution_count": 10,
   "id": "c7453830-cda0-44bd-876e-17812044027f",
   "metadata": {
    "id": "c7453830-cda0-44bd-876e-17812044027f",
    "outputId": "60f9d0ff-a147-4727-8d43-cc846b6f4d96"
   },
   "outputs": [
    {
     "name": "stdout",
     "output_type": "stream",
     "text": [
      "<class 'pandas.core.frame.DataFrame'>\n",
      "Int64Index: 404287 entries, 0 to 404289\n",
      "Data columns (total 3 columns):\n",
      " #   Column        Non-Null Count   Dtype \n",
      "---  ------        --------------   ----- \n",
      " 0   question1     404287 non-null  object\n",
      " 1   question2     404287 non-null  object\n",
      " 2   is_duplicate  404287 non-null  int64 \n",
      "dtypes: int64(1), object(2)\n",
      "memory usage: 12.3+ MB\n"
     ]
    }
   ],
   "source": [
    "data_raw.info()"
   ]
  },
  {
   "cell_type": "markdown",
   "id": "adef4c01-c20b-4774-897b-d22402d6e083",
   "metadata": {
    "id": "adef4c01-c20b-4774-897b-d22402d6e083",
    "tags": []
   },
   "source": [
    "# Cleaning and Feature Extraction"
   ]
  },
  {
   "cell_type": "markdown",
   "id": "f7b244b6-1918-4fed-9525-57440a10a2c3",
   "metadata": {
    "id": "f7b244b6-1918-4fed-9525-57440a10a2c3"
   },
   "source": [
    "## NLP Pre-Processing"
   ]
  },
  {
   "cell_type": "code",
   "execution_count": 11,
   "id": "95085e98-b097-4a58-bb49-876083dd0c39",
   "metadata": {
    "id": "95085e98-b097-4a58-bb49-876083dd0c39"
   },
   "outputs": [],
   "source": [
    "#create deep copy of data to change\n",
    "X = deepcopy(data_raw)"
   ]
  },
  {
   "cell_type": "code",
   "execution_count": 12,
   "id": "3e1966dd-860a-4e67-82ee-85b59faade0f",
   "metadata": {
    "id": "3e1966dd-860a-4e67-82ee-85b59faade0f"
   },
   "outputs": [],
   "source": [
    "#clean, stem and tokenize each column of strings\n",
    "X['question1'] = process_features(X['question1']) #with such a big frame this takes a while\n",
    "X['question2'] = process_features(X['question2'])"
   ]
  },
  {
   "cell_type": "code",
   "execution_count": 13,
   "id": "0c07d49c-ca92-419e-976c-5a588ec24fbc",
   "metadata": {
    "id": "0c07d49c-ca92-419e-976c-5a588ec24fbc",
    "outputId": "2dab3005-1dec-4328-9d90-6482d9c3ccb4"
   },
   "outputs": [
    {
     "data": {
      "text/html": [
       "<div>\n",
       "<style scoped>\n",
       "    .dataframe tbody tr th:only-of-type {\n",
       "        vertical-align: middle;\n",
       "    }\n",
       "\n",
       "    .dataframe tbody tr th {\n",
       "        vertical-align: top;\n",
       "    }\n",
       "\n",
       "    .dataframe thead th {\n",
       "        text-align: right;\n",
       "    }\n",
       "</style>\n",
       "<table border=\"1\" class=\"dataframe\">\n",
       "  <thead>\n",
       "    <tr style=\"text-align: right;\">\n",
       "      <th></th>\n",
       "      <th>question1</th>\n",
       "      <th>question2</th>\n",
       "    </tr>\n",
       "  </thead>\n",
       "  <tbody>\n",
       "    <tr>\n",
       "      <th>0</th>\n",
       "      <td>[step, step, guid, invest, share, market, india]</td>\n",
       "      <td>[step, step, guid, invest, share, market]</td>\n",
       "    </tr>\n",
       "    <tr>\n",
       "      <th>1</th>\n",
       "      <td>[stori, kohinoor, kohinoor, diamond]</td>\n",
       "      <td>[would, happen, indian, govern, stole, kohinoo...</td>\n",
       "    </tr>\n",
       "    <tr>\n",
       "      <th>2</th>\n",
       "      <td>[increas, speed, internet, connect, use, vpn]</td>\n",
       "      <td>[internet, speed, increas, hack, dn]</td>\n",
       "    </tr>\n",
       "    <tr>\n",
       "      <th>3</th>\n",
       "      <td>[mental, lone, solv]</td>\n",
       "      <td>[find, remaind, math, math, divid]</td>\n",
       "    </tr>\n",
       "    <tr>\n",
       "      <th>4</th>\n",
       "      <td>[one, dissolv, water, quikli, sugar, salt, met...</td>\n",
       "      <td>[fish, would, surviv, salt, water]</td>\n",
       "    </tr>\n",
       "  </tbody>\n",
       "</table>\n",
       "</div>"
      ],
      "text/plain": [
       "                                           question1  \\\n",
       "0   [step, step, guid, invest, share, market, india]   \n",
       "1               [stori, kohinoor, kohinoor, diamond]   \n",
       "2      [increas, speed, internet, connect, use, vpn]   \n",
       "3                               [mental, lone, solv]   \n",
       "4  [one, dissolv, water, quikli, sugar, salt, met...   \n",
       "\n",
       "                                           question2  \n",
       "0          [step, step, guid, invest, share, market]  \n",
       "1  [would, happen, indian, govern, stole, kohinoo...  \n",
       "2               [internet, speed, increas, hack, dn]  \n",
       "3                 [find, remaind, math, math, divid]  \n",
       "4                 [fish, would, surviv, salt, water]  "
      ]
     },
     "execution_count": 13,
     "metadata": {},
     "output_type": "execute_result"
    }
   ],
   "source": [
    "#seperate sentences from target\n",
    "y = X.is_duplicate\n",
    "X = X.drop('is_duplicate', axis=1)\n",
    "\n",
    "X.head() #check"
   ]
  },
  {
   "cell_type": "markdown",
   "id": "e3fa7bc4-9b23-42b8-bb6d-24b4efadab22",
   "metadata": {
    "id": "e3fa7bc4-9b23-42b8-bb6d-24b4efadab22"
   },
   "source": [
    "## Similarity"
   ]
  },
  {
   "cell_type": "code",
   "execution_count": 14,
   "id": "2a0abde7-78ee-437a-89e8-66a6af7c3049",
   "metadata": {
    "id": "2a0abde7-78ee-437a-89e8-66a6af7c3049"
   },
   "outputs": [],
   "source": [
    "#use custome function to create similarity score\n",
    "X['similarity'] = similarity_score(X) #apply to X"
   ]
  },
  {
   "cell_type": "code",
   "execution_count": 15,
   "id": "9175653c-1faf-4e9c-b567-197d291ff42a",
   "metadata": {
    "id": "9175653c-1faf-4e9c-b567-197d291ff42a"
   },
   "outputs": [],
   "source": [
    "#split before we are doing fit /transform operation\n",
    "#test train split, also split out labels (y)\n",
    "X_train, X_test, y_train, y_test = train_test_split(X[['question1', 'question2', 'similarity']], y, stratify = y, random_state = 42) #default of 20%"
   ]
  },
  {
   "cell_type": "markdown",
   "id": "57d489e7-5bc9-4a76-b52b-a17f8e32352d",
   "metadata": {
    "id": "57d489e7-5bc9-4a76-b52b-a17f8e32352d"
   },
   "source": [
    "## Vectorize"
   ]
  },
  {
   "cell_type": "code",
   "execution_count": 16,
   "id": "4f39982b-c4d2-40e4-b8a6-a1a687957f2d",
   "metadata": {
    "id": "4f39982b-c4d2-40e4-b8a6-a1a687957f2d",
    "outputId": "7c7426c0-4843-4a69-852d-fada0e94f6ad"
   },
   "outputs": [
    {
     "name": "stderr",
     "output_type": "stream",
     "text": [
      "C:\\Users\\fynn\\Documents\\anaconda\\lib\\site-packages\\sklearn\\feature_extraction\\text.py:516: UserWarning: The parameter 'token_pattern' will not be used since 'tokenizer' is not None'\n",
      "  warnings.warn(\n",
      "C:\\Users\\fynn\\Documents\\anaconda\\lib\\site-packages\\sklearn\\feature_extraction\\text.py:396: UserWarning: Your stop_words may be inconsistent with your preprocessing. Tokenizing the stop words generated tokens [\"'\", 'b', 'c', 'e', 'f', 'g', 'h', 'j', 'l', 'n', 'p', 'r', 'u', 'v', 'w'] not in stop_words.\n",
      "  warnings.warn(\n"
     ]
    },
    {
     "data": {
      "text/plain": [
       "TfidfVectorizer(max_df=0.8, max_features=2500, min_df=7,\n",
       "                preprocessor=<function dummy_fun at 0x000001078E9ACA60>,\n",
       "                stop_words=['i', 'me', 'my', 'myself', 'we', 'our', 'ours',\n",
       "                            'ourselves', 'you', \"you're\", \"you've\", \"you'll\",\n",
       "                            \"you'd\", 'your', 'yours', 'yourself', 'yourselves',\n",
       "                            'he', 'him', 'his', 'himself', 'she', \"she's\",\n",
       "                            'her', 'hers', 'herself', 'it', \"it's\", 'its',\n",
       "                            'itself', ...],\n",
       "                tokenizer=<function dummy_fun at 0x000001078E9ACA60>)"
      ]
     },
     "execution_count": 16,
     "metadata": {},
     "output_type": "execute_result"
    }
   ],
   "source": [
    "#Vectorize\n",
    "#so it can handle token data we add this dummy function\n",
    "def dummy_fun(doc):\n",
    "    return doc\n",
    "\n",
    "#instansiate vectorizer\n",
    "vectorizer = TfidfVectorizer(max_features = 2500, min_df = 7, tokenizer=dummy_fun,\n",
    "                            preprocessor=dummy_fun, max_df = 0.8, stop_words = stopwords.words('english'))\n",
    "    \n",
    "#fit to the entire corpus (question 1 and 2)\n",
    "vectorizer.fit(X_train[['question1', 'question2']].values.flatten())"
   ]
  },
  {
   "cell_type": "code",
   "execution_count": 17,
   "id": "dabd718a-a95f-4100-a45c-d486fe7bfba3",
   "metadata": {
    "id": "dabd718a-a95f-4100-a45c-d486fe7bfba3"
   },
   "outputs": [
    {
     "name": "stdout",
     "output_type": "stream",
     "text": [
      "(303215, 5001)\n",
      "(303215,)\n"
     ]
    }
   ],
   "source": [
    "#use custom functions to get vectors and merge with similarity for single feature input\n",
    "X_train_features = vectors_to_features(X_train)\n",
    "X_test_features = vectors_to_features(X_test)\n",
    "\n",
    "#check the input shape of the data\n",
    "print(X_train_features.shape)\n",
    "print(y_train.shape)"
   ]
  },
  {
   "cell_type": "markdown",
   "id": "5e5374bc-fec6-4d00-bac1-8e567de36bef",
   "metadata": {
    "id": "5e5374bc-fec6-4d00-bac1-8e567de36bef"
   },
   "source": [
    "# Modelling"
   ]
  },
  {
   "cell_type": "markdown",
   "id": "f85a19ee-4755-4dcb-b7f8-dafefcc19ab6",
   "metadata": {
    "id": "f85a19ee-4755-4dcb-b7f8-dafefcc19ab6"
   },
   "source": [
    "## Initial Test with RFC"
   ]
  },
  {
   "cell_type": "code",
   "execution_count": 18,
   "id": "6be70e91-54b9-4fe4-a4c0-f50c45032ffc",
   "metadata": {
    "id": "6be70e91-54b9-4fe4-a4c0-f50c45032ffc"
   },
   "outputs": [],
   "source": [
    "#create dataframe to compare scores\n",
    "comparison_train = pd.DataFrame(index = ['RandomForest', 'LogReg', 'NaiveBayes'], columns = ['recall', 'precision', 'accuracy'])\n",
    "comparison_test = pd.DataFrame(index = ['RandomForest', 'LogReg', 'NaiveBayes'], columns = ['recall', 'precision',  'accuracy'])"
   ]
  },
  {
   "cell_type": "code",
   "execution_count": 19,
   "id": "7a86f3c5-4b6e-451b-9804-655a6b8d7871",
   "metadata": {
    "id": "7a86f3c5-4b6e-451b-9804-655a6b8d7871",
    "outputId": "d2bd8bd3-79da-49f6-cec2-e18f331685d7"
   },
   "outputs": [],
   "source": [
    "#Train random forest\n",
    "#rfc = RandomForestClassifier(random_state = 1)\n",
    "#rfc.fit(X_train_features, y_train)"
   ]
  },
  {
   "cell_type": "code",
   "execution_count": 20,
   "id": "390d8313-59b7-4995-9070-26ab2acf1684",
   "metadata": {},
   "outputs": [],
   "source": [
    "#save the trained model\n",
    "#pickle.dump(rfc, open('rfc_default.sav', 'wb'))\n",
    "\n",
    "#load trained model\n",
    "rfc_default = pickle.load(open('../big_files/rfc_default.sav', 'rb'))"
   ]
  },
  {
   "cell_type": "code",
   "execution_count": 42,
   "id": "d7a61853-e4f0-4da8-aaec-50320cf83794",
   "metadata": {
    "id": "d7a61853-e4f0-4da8-aaec-50320cf83794"
   },
   "outputs": [
    {
     "data": {
      "image/png": "[encoded data removed]",
      "text/plain": [
       "<Figure size 432x288 with 2 Axes>"
      ]
     },
     "metadata": {
      "needs_background": "light"
     },
     "output_type": "display_data"
    },
    {
     "data": {
      "image/png": "[encoded data removed]",
      "text/plain": [
       "<Figure size 432x288 with 2 Axes>"
      ]
     },
     "metadata": {
      "needs_background": "light"
     },
     "output_type": "display_data"
    }
   ],
   "source": [
    "#create predictions\n",
    "y_rfc_train = rfc_default.predict(X_train_features)\n",
    "y_rfc_test = rfc_default.predict(X_test_features)\n",
    "\n",
    "#save predictions to comparison dataframe\n",
    "comparison_train.loc['RandomForest'] = evaluation(y_rfc_train, y_train, save='rfc_default_train')\n",
    "comparison_test.loc['RandomForest'] = evaluation(y_rfc_test, y_test,save= 'rfc_default_test')"
   ]
  },
  {
   "cell_type": "code",
   "execution_count": 22,
   "id": "61f713e7-c809-42c1-baa9-eccda40539a4",
   "metadata": {
    "id": "61f713e7-c809-42c1-baa9-eccda40539a4",
    "outputId": "0403c1a9-9b2d-47af-99cf-723f32c2c003"
   },
   "outputs": [
    {
     "data": {
      "text/plain": [
       "{'bootstrap': True,\n",
       " 'ccp_alpha': 0.0,\n",
       " 'class_weight': None,\n",
       " 'criterion': 'gini',\n",
       " 'max_depth': None,\n",
       " 'max_features': 'auto',\n",
       " 'max_leaf_nodes': None,\n",
       " 'max_samples': None,\n",
       " 'min_impurity_decrease': 0.0,\n",
       " 'min_samples_leaf': 1,\n",
       " 'min_samples_split': 2,\n",
       " 'min_weight_fraction_leaf': 0.0,\n",
       " 'n_estimators': 100,\n",
       " 'n_jobs': None,\n",
       " 'oob_score': False,\n",
       " 'random_state': 1,\n",
       " 'verbose': 0,\n",
       " 'warm_start': False}"
      ]
     },
     "execution_count": 22,
     "metadata": {},
     "output_type": "execute_result"
    }
   ],
   "source": [
    "rfc_default.get_params()"
   ]
  },
  {
   "cell_type": "markdown",
   "id": "2bcf695c-98ff-4a18-8e02-b0f10b1258b0",
   "metadata": {
    "id": "2bcf695c-98ff-4a18-8e02-b0f10b1258b0",
    "tags": []
   },
   "source": [
    "## Other Shallow Models"
   ]
  },
  {
   "cell_type": "code",
   "execution_count": 24,
   "id": "ce344ce7-ad3f-4d0c-bd60-46808ff02fd4",
   "metadata": {},
   "outputs": [],
   "source": [
    "import numpy as np\n",
    "import random\n",
    "\n",
    "def set_random_seed(seed=0):\n",
    "    np.random.seed(seed)\n",
    "    random.seed(seed)"
   ]
  },
  {
   "cell_type": "code",
   "execution_count": 25,
   "id": "9f62c12d-50d6-4892-90bc-8b32bf7ab34a",
   "metadata": {
    "id": "9f62c12d-50d6-4892-90bc-8b32bf7ab34a"
   },
   "outputs": [
    {
     "name": "stderr",
     "output_type": "stream",
     "text": [
      "C:\\Users\\fynn\\Documents\\anaconda\\lib\\site-packages\\sklearn\\linear_model\\_logistic.py:814: ConvergenceWarning: lbfgs failed to converge (status=1):\n",
      "STOP: TOTAL NO. of ITERATIONS REACHED LIMIT.\n",
      "\n",
      "Increase the number of iterations (max_iter) or scale the data as shown in:\n",
      "    https://scikit-learn.org/stable/modules/preprocessing.html\n",
      "Please also refer to the documentation for alternative solver options:\n",
      "    https://scikit-learn.org/stable/modules/linear_model.html#logistic-regression\n",
      "  n_iter_i = _check_optimize_result(\n"
     ]
    },
    {
     "data": {
      "text/plain": [
       "LogisticRegression(random_state=1)"
      ]
     },
     "execution_count": 25,
     "metadata": {},
     "output_type": "execute_result"
    }
   ],
   "source": [
    "#train naive bayes\n",
    "set_random_seed(1)\n",
    "naive = naive_bayes.MultinomialNB()\n",
    "naive.fit(X_train_features, y_train)\n",
    "\n",
    "#train logreg\n",
    "lr = LogisticRegression(random_state = 1)\n",
    "lr.fit(X_train_features, y_train)"
   ]
  },
  {
   "cell_type": "code",
   "execution_count": 40,
   "id": "d8884789-48b6-4197-86a6-bfeb20e622d5",
   "metadata": {
    "id": "d8884789-48b6-4197-86a6-bfeb20e622d5"
   },
   "outputs": [
    {
     "data": {
      "image/png": "[encoded data removed]",
      "text/plain": [
       "<Figure size 432x288 with 2 Axes>"
      ]
     },
     "metadata": {
      "needs_background": "light"
     },
     "output_type": "display_data"
    },
    {
     "data": {
      "image/png": "[encoded data removed]",
      "text/plain": [
       "<Figure size 432x288 with 2 Axes>"
      ]
     },
     "metadata": {
      "needs_background": "light"
     },
     "output_type": "display_data"
    },
    {
     "data": {
      "image/png": "[encoded data removed]",
      "text/plain": [
       "<Figure size 432x288 with 2 Axes>"
      ]
     },
     "metadata": {
      "needs_background": "light"
     },
     "output_type": "display_data"
    },
    {
     "data": {
      "image/png": "[encoded data removed]",
      "text/plain": [
       "<Figure size 432x288 with 2 Axes>"
      ]
     },
     "metadata": {
      "needs_background": "light"
     },
     "output_type": "display_data"
    }
   ],
   "source": [
    "#create predictions\n",
    "y_naive_train = naive.predict(X_train_features)\n",
    "y_lr_train = lr.predict(X_train_features)\n",
    "\n",
    "y_naive = naive.predict(X_test_features)\n",
    "y_lr = lr.predict(X_test_features)\n",
    "\n",
    "#add to comparison dataframes\n",
    "comparison_train.loc['NaiveBayes'] = evaluation(y_naive_train, y_train, 'naive_train')\n",
    "comparison_train.loc['LogReg'] = evaluation(y_lr_train, y_train, 'lr_train')\n",
    "comparison_test.loc['NaiveBayes'] = evaluation(y_naive, y_test, 'naive_test')\n",
    "comparison_test.loc['LogReg'] = evaluation(y_lr, y_test, 'lr_test')"
   ]
  },
  {
   "cell_type": "markdown",
   "id": "e1ab54d1-e41b-476e-b7bd-8b9c70d8ba53",
   "metadata": {
    "id": "e1ab54d1-e41b-476e-b7bd-8b9c70d8ba53",
    "tags": []
   },
   "source": [
    "## Gridsearch"
   ]
  },
  {
   "cell_type": "code",
   "execution_count": 27,
   "id": "8f59a6ac-ba49-49a8-8df2-7bebe1c4b857",
   "metadata": {
    "id": "8f59a6ac-ba49-49a8-8df2-7bebe1c4b857"
   },
   "outputs": [],
   "source": [
    "#define hyperparameters to try\n",
    "param_grid = {'max_features': ['auto', 'log2', 'sqrt'],\n",
    "              'min_samples_leaf': [ 5, 10, 20]}\n",
    "\n",
    "#Instantiate random forest with specific parameters\n",
    "rfc_grid = RandomForestClassifier(random_state = 1, n_jobs = -1, n_estimators = 1000, oob_score = True)\n",
    "#instantiant gridsearch with random forest and param grid\n",
    "gridsearch = GridSearchCV(rfc_grid, param_grid, n_jobs = -1, verbose = 1)"
   ]
  },
  {
   "cell_type": "code",
   "execution_count": null,
   "id": "91ac63d0-9684-4b53-bc11-06dbf0bb106a",
   "metadata": {
    "id": "91ac63d0-9684-4b53-bc11-06dbf0bb106a",
    "outputId": "493a8924-8cd2-4ba2-fe28-26559de771c3"
   },
   "outputs": [],
   "source": [
    "#-- TAKES ROUGHLY 4 HOURS --\n",
    "#gridsearch.fit(X_train_features, y_train)"
   ]
  },
  {
   "cell_type": "code",
   "execution_count": 28,
   "id": "1564d278-c99d-45d1-a971-299d60242a07",
   "metadata": {},
   "outputs": [
    {
     "data": {
      "text/plain": [
       "{'max_features': 'auto', 'min_samples_leaf': 5}"
      ]
     },
     "execution_count": 28,
     "metadata": {},
     "output_type": "execute_result"
    }
   ],
   "source": [
    "#save the trained model\n",
    "#pickle.dump(gridsearch, open('rfc_grid.sav', 'wb'))\n",
    "\n",
    "#load trained model\n",
    "gridsearch_saved = pickle.load(open('../big_files/rfc_grid.sav', 'rb'))\n",
    "#what params did it choose\n",
    "gridsearch_saved.best_params_"
   ]
  },
  {
   "cell_type": "code",
   "execution_count": 41,
   "id": "3d0bd217-2e11-41bb-9fac-a4a4e7ab0c36",
   "metadata": {
    "id": "3d0bd217-2e11-41bb-9fac-a4a4e7ab0c36"
   },
   "outputs": [
    {
     "data": {
      "image/png": "[encoded data removed]",
      "text/plain": [
       "<Figure size 432x288 with 2 Axes>"
      ]
     },
     "metadata": {
      "needs_background": "light"
     },
     "output_type": "display_data"
    },
    {
     "data": {
      "image/png": "[encoded data removed]",
      "text/plain": [
       "<Figure size 432x288 with 2 Axes>"
      ]
     },
     "metadata": {
      "needs_background": "light"
     },
     "output_type": "display_data"
    }
   ],
   "source": [
    "grid_train = gridsearch_saved.predict(X_train_features)\n",
    "grid_test = gridsearch_saved.predict(X_test_features)\n",
    "\n",
    "comparison_train.loc['RandomForestGrid'] = evaluation(grid_train, y_train, 'rfc_grid_train')\n",
    "comparison_test.loc['RandomForestGrid'] = evaluation(grid_test, y_test, 'rfc_grid_test')"
   ]
  },
  {
   "cell_type": "code",
   "execution_count": 30,
   "id": "bbf17d2c-c8b6-4026-9611-3b5ee8f3a63e",
   "metadata": {},
   "outputs": [
    {
     "data": {
      "text/html": [
       "<div>\n",
       "<style scoped>\n",
       "    .dataframe tbody tr th:only-of-type {\n",
       "        vertical-align: middle;\n",
       "    }\n",
       "\n",
       "    .dataframe tbody tr th {\n",
       "        vertical-align: top;\n",
       "    }\n",
       "\n",
       "    .dataframe thead th {\n",
       "        text-align: right;\n",
       "    }\n",
       "</style>\n",
       "<table border=\"1\" class=\"dataframe\">\n",
       "  <thead>\n",
       "    <tr style=\"text-align: right;\">\n",
       "      <th></th>\n",
       "      <th>recall</th>\n",
       "      <th>precision</th>\n",
       "      <th>accuracy</th>\n",
       "    </tr>\n",
       "  </thead>\n",
       "  <tbody>\n",
       "    <tr>\n",
       "      <th>RandomForest</th>\n",
       "      <td>0.984034</td>\n",
       "      <td>0.981089</td>\n",
       "      <td>0.987141</td>\n",
       "    </tr>\n",
       "    <tr>\n",
       "      <th>LogReg</th>\n",
       "      <td>0.7047</td>\n",
       "      <td>0.565393</td>\n",
       "      <td>0.75207</td>\n",
       "    </tr>\n",
       "    <tr>\n",
       "      <th>NaiveBayes</th>\n",
       "      <td>0.684672</td>\n",
       "      <td>0.507374</td>\n",
       "      <td>0.73185</td>\n",
       "    </tr>\n",
       "    <tr>\n",
       "      <th>RandomForestGrid</th>\n",
       "      <td>0.814086</td>\n",
       "      <td>0.70059</td>\n",
       "      <td>0.830388</td>\n",
       "    </tr>\n",
       "  </tbody>\n",
       "</table>\n",
       "</div>"
      ],
      "text/plain": [
       "                    recall precision  accuracy\n",
       "RandomForest      0.984034  0.981089  0.987141\n",
       "LogReg              0.7047  0.565393   0.75207\n",
       "NaiveBayes        0.684672  0.507374   0.73185\n",
       "RandomForestGrid  0.814086   0.70059  0.830388"
      ]
     },
     "execution_count": 30,
     "metadata": {},
     "output_type": "execute_result"
    }
   ],
   "source": [
    "comparison_train #show train comparison"
   ]
  },
  {
   "cell_type": "code",
   "execution_count": 31,
   "id": "6c8e52bb-7dc2-4866-a1b0-120947100761",
   "metadata": {},
   "outputs": [
    {
     "data": {
      "text/html": [
       "<div>\n",
       "<style scoped>\n",
       "    .dataframe tbody tr th:only-of-type {\n",
       "        vertical-align: middle;\n",
       "    }\n",
       "\n",
       "    .dataframe tbody tr th {\n",
       "        vertical-align: top;\n",
       "    }\n",
       "\n",
       "    .dataframe thead th {\n",
       "        text-align: right;\n",
       "    }\n",
       "</style>\n",
       "<table border=\"1\" class=\"dataframe\">\n",
       "  <thead>\n",
       "    <tr style=\"text-align: right;\">\n",
       "      <th></th>\n",
       "      <th>recall</th>\n",
       "      <th>precision</th>\n",
       "      <th>accuracy</th>\n",
       "    </tr>\n",
       "  </thead>\n",
       "  <tbody>\n",
       "    <tr>\n",
       "      <th>RandomForest</th>\n",
       "      <td>0.777271</td>\n",
       "      <td>0.684746</td>\n",
       "      <td>0.811164</td>\n",
       "    </tr>\n",
       "    <tr>\n",
       "      <th>LogReg</th>\n",
       "      <td>0.695296</td>\n",
       "      <td>0.561663</td>\n",
       "      <td>0.747289</td>\n",
       "    </tr>\n",
       "    <tr>\n",
       "      <th>NaiveBayes</th>\n",
       "      <td>0.679331</td>\n",
       "      <td>0.505038</td>\n",
       "      <td>0.729243</td>\n",
       "    </tr>\n",
       "    <tr>\n",
       "      <th>RandomForestGrid</th>\n",
       "      <td>0.741355</td>\n",
       "      <td>0.613571</td>\n",
       "      <td>0.778297</td>\n",
       "    </tr>\n",
       "  </tbody>\n",
       "</table>\n",
       "</div>"
      ],
      "text/plain": [
       "                    recall precision  accuracy\n",
       "RandomForest      0.777271  0.684746  0.811164\n",
       "LogReg            0.695296  0.561663  0.747289\n",
       "NaiveBayes        0.679331  0.505038  0.729243\n",
       "RandomForestGrid  0.741355  0.613571  0.778297"
      ]
     },
     "execution_count": 31,
     "metadata": {},
     "output_type": "execute_result"
    }
   ],
   "source": [
    "comparison_test #show test comparison"
   ]
  }
 ],
 "metadata": {
  "colab": {
   "name": "Code.ipynb",
   "provenance": []
  },
  "kernelspec": {
   "display_name": "Python 3 (ipykernel)",
   "language": "python",
   "name": "python3"
  },
  "language_info": {
   "codemirror_mode": {
    "name": "ipython",
    "version": 3
   },
   "file_extension": ".py",
   "mimetype": "text/x-python",
   "name": "python",
   "nbconvert_exporter": "python",
   "pygments_lexer": "ipython3",
   "version": "3.9.7"
  }
 },
 "nbformat": 4,
 "nbformat_minor": 5
}
